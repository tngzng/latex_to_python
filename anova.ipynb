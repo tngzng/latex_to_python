{
  "nbformat": 4,
  "nbformat_minor": 0,
  "metadata": {
    "colab": {
      "name": "anova_latex_to_python.ipynb",
      "provenance": [],
      "collapsed_sections": [],
      "authorship_tag": "ABX9TyPBwg22WLFZe5iqraUmP6wq",
      "include_colab_link": true
    },
    "kernelspec": {
      "name": "python3",
      "display_name": "Python 3"
    },
    "language_info": {
      "name": "python"
    }
  },
  "cells": [
    {
      "cell_type": "markdown",
      "metadata": {
        "id": "view-in-github",
        "colab_type": "text"
      },
      "source": [
        "<a href=\"https://colab.research.google.com/github/tngzng/latex_to_python/blob/main/anova.ipynb\" target=\"_parent\"><img src=\"https://colab.research.google.com/assets/colab-badge.svg\" alt=\"Open In Colab\"/></a>"
      ]
    },
    {
      "cell_type": "markdown",
      "source": [
        "# analysis of variance (anova)"
      ],
      "metadata": {
        "id": "GxBkXvJ5iW80"
      }
    },
    {
      "cell_type": "code",
      "source": [
        "from typing import *\n",
        "\n",
        "GROUPS = [\n",
        "  [1.0, 2.0, 3.0],\n",
        "  [2.0, 3.0, 4.0],\n",
        "  [3.0, 4.0, 5.0],\n",
        "]"
      ],
      "metadata": {
        "id": "xsvLeXHIktME"
      },
      "execution_count": 52,
      "outputs": []
    },
    {
      "cell_type": "markdown",
      "source": [
        "## sample mean\n",
        "sample mean of jth group"
      ],
      "metadata": {
        "id": "Dd2sT6Wtj34i"
      }
    },
    {
      "cell_type": "markdown",
      "source": [
        "$\\bar{y_j} = 1/n_j \\sum_{i=1}^{n_j} y_{ij} $"
      ],
      "metadata": {
        "id": "LYsIY9tfj4Bo"
      }
    },
    {
      "cell_type": "code",
      "source": [
        "def sample_mean(observations: List[float]) -> float:\n",
        "  return sum(observations) / len(observations)\n",
        "\n",
        "observations = GROUPS[0]\n",
        "sample_mean(observations)"
      ],
      "metadata": {
        "colab": {
          "base_uri": "https://localhost:8080/"
        },
        "id": "HN2LOVOvj4NE",
        "outputId": "62fe7f1b-29d9-4ec3-ec75-c9de247e7765"
      },
      "execution_count": 53,
      "outputs": [
        {
          "output_type": "execute_result",
          "data": {
            "text/plain": [
              "2.0"
            ]
          },
          "metadata": {},
          "execution_count": 53
        }
      ]
    },
    {
      "cell_type": "markdown",
      "source": [
        "## grand mean\n",
        "overall sample mean"
      ],
      "metadata": {
        "id": "VU53nadClFwJ"
      }
    },
    {
      "cell_type": "markdown",
      "source": [
        "$ \\bar{\\bar{y}} = 1/N \\sum_{j=1}^k \\sum_{i=1}^{n_j} y_{ij} $"
      ],
      "metadata": {
        "id": "Q-8G20VjlF7G"
      }
    },
    {
      "cell_type": "code",
      "source": [
        "def overall_mean(groups: List[List[float]]) -> float:\n",
        "  means = [sample_mean(g) for g in groups]\n",
        "  return sample_mean(means)\n",
        "\n",
        "overall_mean(GROUPS)"
      ],
      "metadata": {
        "colab": {
          "base_uri": "https://localhost:8080/"
        },
        "id": "zNc5mVg6lGEA",
        "outputId": "97cff8e2-0b2c-463e-d539-bbfb40dafdaa"
      },
      "execution_count": 54,
      "outputs": [
        {
          "output_type": "execute_result",
          "data": {
            "text/plain": [
              "3.0"
            ]
          },
          "metadata": {},
          "execution_count": 54
        }
      ]
    },
    {
      "cell_type": "markdown",
      "source": [
        "## treatment sum of squares\n",
        "difference of jth group mean to overall mean"
      ],
      "metadata": {
        "id": "xGDlUCktidUK"
      }
    },
    {
      "cell_type": "markdown",
      "source": [
        "$\\mathrm{SST} = \\sum_j \\left( \\bar{y_j} - \\bar{\\bar{y}} \\right) ^ 2$"
      ],
      "metadata": {
        "id": "YxtIKHIKidef"
      }
    },
    {
      "cell_type": "code",
      "source": [
        "def treatment_sum_of_squares(groups: List[List[float]]) -> float:\n",
        "  means = [sample_mean(g) for g in groups]\n",
        "  grand_mean = overall_mean(groups)\n",
        "  squared_dists = [(mean - grand_mean)**2 for mean in means]\n",
        "  return sum(squared_dists)\n",
        "\n",
        "treatment_sum_of_squares(GROUPS)"
      ],
      "metadata": {
        "colab": {
          "base_uri": "https://localhost:8080/"
        },
        "id": "Aa38eiqDidso",
        "outputId": "ac62306a-c916-4fb6-d32d-94f54831613a"
      },
      "execution_count": 55,
      "outputs": [
        {
          "output_type": "execute_result",
          "data": {
            "text/plain": [
              "2.0"
            ]
          },
          "metadata": {},
          "execution_count": 55
        }
      ]
    },
    {
      "cell_type": "markdown",
      "source": [
        "## error sum of squares \n",
        "difference of each observation and its corresponding group mean"
      ],
      "metadata": {
        "id": "lcEBp4--iST9"
      }
    },
    {
      "cell_type": "markdown",
      "source": [
        "$\\mathrm{SSE} = \\sum_j \\sum_i \\left( y_{ij} - \\bar{y_j} \\right) ^ 2$ "
      ],
      "metadata": {
        "id": "YD5yBI2khW2s"
      }
    },
    {
      "cell_type": "code",
      "execution_count": 56,
      "metadata": {
        "colab": {
          "base_uri": "https://localhost:8080/"
        },
        "id": "QOy3lti7hMRm",
        "outputId": "19803e74-49a6-4bda-9ebe-27619974a56e"
      },
      "outputs": [
        {
          "output_type": "execute_result",
          "data": {
            "text/plain": [
              "6.0"
            ]
          },
          "metadata": {},
          "execution_count": 56
        }
      ],
      "source": [
        "def error_sum_of_squares(groups: List[List[float]]) -> float:\n",
        "  errors = []\n",
        "  for group in groups: \n",
        "    mean = sample_mean(group) \n",
        "    squared_dists = [(i - mean)**2 for i in group]\n",
        "    errors.append(sum(squared_dists))\n",
        "  \n",
        "  return sum(errors)\n",
        "\n",
        "error_sum_of_squares(GROUPS)"
      ]
    },
    {
      "cell_type": "markdown",
      "source": [
        "## treatment mean square\n",
        "measures the variability of the treatment means $\\bar{y_j}$"
      ],
      "metadata": {
        "id": "qbl5sKsD7UrI"
      }
    },
    {
      "cell_type": "markdown",
      "source": [
        "$\\mathrm{MST} = \\mathrm{SST} / (k - 1)$\n",
        "\n",
        "where:\n",
        "- k is the number of groups"
      ],
      "metadata": {
        "id": "QlfqXYRZ7UxH"
      }
    },
    {
      "cell_type": "code",
      "source": [
        "def treatment_mean_square(groups: List[List[float]]) -> float:\n",
        "  sum_of_squares = treatment_sum_of_squares(groups)\n",
        "  k = len(groups)\n",
        "  return sum_of_squares / (k - 1)\n",
        "\n",
        "treatment_mean_square(GROUPS)"
      ],
      "metadata": {
        "colab": {
          "base_uri": "https://localhost:8080/"
        },
        "id": "Jgohlwtd7U5h",
        "outputId": "6b2b903d-fc6b-4f10-f86c-252505c99908"
      },
      "execution_count": 57,
      "outputs": [
        {
          "output_type": "execute_result",
          "data": {
            "text/plain": [
              "1.0"
            ]
          },
          "metadata": {},
          "execution_count": 57
        }
      ]
    },
    {
      "cell_type": "markdown",
      "source": [
        "## error mean square\n",
        "measures the variability within groups"
      ],
      "metadata": {
        "id": "d4G1-YHR70IL"
      }
    },
    {
      "cell_type": "markdown",
      "source": [
        "$\\mathrm{MSE} = \\mathrm{SSE} / (N - k)$\n",
        "\n",
        "where:\n",
        "- N is the total observations (across all groups)\n",
        "- k is the number of groups\n"
      ],
      "metadata": {
        "id": "HJBdoYZv70Oi"
      }
    },
    {
      "cell_type": "code",
      "source": [
        "def error_mean_square(groups: List[List[float]]) -> float:\n",
        "  sum_of_squares = error_sum_of_squares(groups)\n",
        "  N = sum([len(g) for g in groups])\n",
        "  k = len(groups)\n",
        "  return sum_of_squares / (N - k)\n",
        "\n",
        "error_mean_square(GROUPS)"
      ],
      "metadata": {
        "colab": {
          "base_uri": "https://localhost:8080/"
        },
        "id": "lv88HNAn7egN",
        "outputId": "e7fc3c58-1a70-4c84-8f92-66a221ce5b16"
      },
      "execution_count": 58,
      "outputs": [
        {
          "output_type": "execute_result",
          "data": {
            "text/plain": [
              "1.0"
            ]
          },
          "metadata": {},
          "execution_count": 58
        }
      ]
    },
    {
      "cell_type": "markdown",
      "source": [
        "## f-test\n",
        "compares variability between treatment means to the variability within the groups. \n",
        "\n",
        "(large values of F suggest large variation between the groups.)"
      ],
      "metadata": {
        "id": "SlccIJ5wAMW6"
      }
    },
    {
      "cell_type": "markdown",
      "source": [
        "$F = \\mathrm{MST} / \\mathrm{MSE}$"
      ],
      "metadata": {
        "id": "m8mrmBFVAMdp"
      }
    },
    {
      "cell_type": "code",
      "source": [
        "def f_test(groups: List[List[float]]) -> float:\n",
        "  MST = treatment_mean_square(groups)\n",
        "  MSE = error_mean_square(groups)\n",
        "  return MST / MSE\n",
        "\n",
        "f_test(GROUPS)"
      ],
      "metadata": {
        "colab": {
          "base_uri": "https://localhost:8080/"
        },
        "id": "ZmGtbMhvAMmT",
        "outputId": "550c21bb-96f2-4c06-d1ed-1e237eb6ae8c"
      },
      "execution_count": 59,
      "outputs": [
        {
          "output_type": "execute_result",
          "data": {
            "text/plain": [
              "1.0"
            ]
          },
          "metadata": {},
          "execution_count": 59
        }
      ]
    },
    {
      "cell_type": "markdown",
      "source": [
        "## total sum of squares"
      ],
      "metadata": {
        "id": "0tHnqqL7CV51"
      }
    },
    {
      "cell_type": "markdown",
      "source": [
        "$\\mathrm{TSS} = \\mathrm{SST} + \\mathrm{SSE}$ "
      ],
      "metadata": {
        "id": "SuCn_nmLCWAq"
      }
    },
    {
      "cell_type": "code",
      "source": [
        "def total_sum_of_squares(groups: List[List[float]]) -> float:\n",
        "  SST = treatment_sum_of_squares(groups)\n",
        "  SSE = error_sum_of_squares(groups)\n",
        "  return SST + SSE \n",
        "\n",
        "total_sum_of_squares(GROUPS)"
      ],
      "metadata": {
        "colab": {
          "base_uri": "https://localhost:8080/"
        },
        "id": "lQiRgGKXCWIQ",
        "outputId": "f58ca444-fb8d-4582-c44b-61e7a8c3431c"
      },
      "execution_count": 61,
      "outputs": [
        {
          "output_type": "execute_result",
          "data": {
            "text/plain": [
              "8.0"
            ]
          },
          "metadata": {},
          "execution_count": 61
        }
      ]
    }
  ]
}